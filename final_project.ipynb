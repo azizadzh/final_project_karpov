{
 "cells": [
  {
   "cell_type": "code",
   "execution_count": 45,
   "metadata": {},
   "outputs": [],
   "source": [
    "import pandas as pd\n",
    "import numpy as np\n",
    "import matplotlib.pyplot as plt\n",
    "import seaborn as sns\n",
    "from scipy.stats import norm\n",
    "plt.style.use('ggplot')\n",
    "from scipy import stats\n",
    "from statistics import mean, stdev\n",
    "from math import sqrt\n",
    "from tqdm.auto import tqdm\n",
    "import warnings\n",
    "\n",
    "warnings.filterwarnings('ignore')"
   ]
  },
  {
   "cell_type": "markdown",
   "metadata": {},
   "source": [
    "<h1>Проект: вариант 2"
   ]
  },
  {
   "cell_type": "markdown",
   "metadata": {},
   "source": [
    "<h2>Задание 1. A/B–тестирование"
   ]
  },
  {
   "cell_type": "markdown",
   "metadata": {},
   "source": [
    "<span style=\"color:darkblue\"> 1.1 Условие\n",
    "\n",
    "<span style=\"color:darkblue\"> Одной из основных задач аналитика в нашей команде является корректное проведение экспериментов. Для этого мы применяем метод A/B–тестирования. В ходе тестирования одной гипотезы целевой группе была предложена новая механика оплаты услуг на сайте, у контрольной группы оставалась базовая механика. В качестве задания Вам необходимо проанализировать итоги эксперимента и сделать вывод, стоит ли запускать новую механику оплаты на всех пользователей.<span>"
   ]
  },
  {
   "cell_type": "markdown",
   "metadata": {},
   "source": [
    "Загружаем исходные данные"
   ]
  },
  {
   "cell_type": "code",
   "execution_count": 77,
   "metadata": {},
   "outputs": [],
   "source": [
    "groups = pd.read_csv('http://getfile.dokpub.com/yandex/get/https://disk.yandex.ru/d/UhyYx41rTt3clQ', sep=';')\n",
    "groups_add = pd.read_csv('http://getfile.dokpub.com/yandex/get/https://disk.yandex.ru/d/5Kxrz02m3IBUwQ')\n",
    "active_st = pd.read_csv('http://getfile.dokpub.com/yandex/get/https://disk.yandex.ru/d/Tbs44Bm6H_FwFQ')\n",
    "checks = pd.read_csv('http://getfile.dokpub.com/yandex/get/https://disk.yandex.ru/d/pH1q-VqcxXjsVA', sep=';')"
   ]
  },
  {
   "cell_type": "markdown",
   "metadata": {},
   "source": [
    "Объединяем таблицы, приводим данные в порядок"
   ]
  },
  {
   "cell_type": "code",
   "execution_count": 78,
   "metadata": {},
   "outputs": [],
   "source": [
    "groups_2 = pd.concat([groups, groups_add], ignore_index=True)"
   ]
  },
  {
   "cell_type": "code",
   "execution_count": 79,
   "metadata": {},
   "outputs": [],
   "source": [
    "active_st = active_st.rename(columns={'student_id': 'id'})\n",
    "active_st['active'] = 'active'\n",
    "checks = checks.rename(columns={'student_id': 'id'})"
   ]
  },
  {
   "cell_type": "code",
   "execution_count": 80,
   "metadata": {},
   "outputs": [],
   "source": [
    "df = pd.merge(groups_2, active_st, how='left', on='id')"
   ]
  },
  {
   "cell_type": "code",
   "execution_count": 81,
   "metadata": {},
   "outputs": [],
   "source": [
    "df = pd.merge(df, checks, how='left', on='id')"
   ]
  },
  {
   "cell_type": "code",
   "execution_count": 82,
   "metadata": {},
   "outputs": [],
   "source": [
    "df = df.fillna(0)"
   ]
  },
  {
   "cell_type": "code",
   "execution_count": 83,
   "metadata": {},
   "outputs": [
    {
     "data": {
      "text/html": [
       "<div>\n",
       "<style scoped>\n",
       "    .dataframe tbody tr th:only-of-type {\n",
       "        vertical-align: middle;\n",
       "    }\n",
       "\n",
       "    .dataframe tbody tr th {\n",
       "        vertical-align: top;\n",
       "    }\n",
       "\n",
       "    .dataframe thead th {\n",
       "        text-align: right;\n",
       "    }\n",
       "</style>\n",
       "<table border=\"1\" class=\"dataframe\">\n",
       "  <thead>\n",
       "    <tr style=\"text-align: right;\">\n",
       "      <th></th>\n",
       "      <th>id</th>\n",
       "      <th>grp</th>\n",
       "      <th>active</th>\n",
       "      <th>rev</th>\n",
       "    </tr>\n",
       "  </thead>\n",
       "  <tbody>\n",
       "    <tr>\n",
       "      <th>0</th>\n",
       "      <td>1489</td>\n",
       "      <td>B</td>\n",
       "      <td>0</td>\n",
       "      <td>0.0</td>\n",
       "    </tr>\n",
       "    <tr>\n",
       "      <th>1</th>\n",
       "      <td>1627</td>\n",
       "      <td>A</td>\n",
       "      <td>active</td>\n",
       "      <td>990.0</td>\n",
       "    </tr>\n",
       "    <tr>\n",
       "      <th>2</th>\n",
       "      <td>1768</td>\n",
       "      <td>B</td>\n",
       "      <td>0</td>\n",
       "      <td>0.0</td>\n",
       "    </tr>\n",
       "    <tr>\n",
       "      <th>3</th>\n",
       "      <td>1783</td>\n",
       "      <td>B</td>\n",
       "      <td>0</td>\n",
       "      <td>0.0</td>\n",
       "    </tr>\n",
       "    <tr>\n",
       "      <th>4</th>\n",
       "      <td>1794</td>\n",
       "      <td>A</td>\n",
       "      <td>0</td>\n",
       "      <td>0.0</td>\n",
       "    </tr>\n",
       "  </tbody>\n",
       "</table>\n",
       "</div>"
      ],
      "text/plain": [
       "     id grp  active    rev\n",
       "0  1489   B       0    0.0\n",
       "1  1627   A  active  990.0\n",
       "2  1768   B       0    0.0\n",
       "3  1783   B       0    0.0\n",
       "4  1794   A       0    0.0"
      ]
     },
     "execution_count": 83,
     "metadata": {},
     "output_type": "execute_result"
    }
   ],
   "source": [
    "df.head()"
   ]
  },
  {
   "cell_type": "code",
   "execution_count": 84,
   "metadata": {},
   "outputs": [
    {
     "data": {
      "text/plain": [
       "0"
      ]
     },
     "execution_count": 84,
     "metadata": {},
     "output_type": "execute_result"
    }
   ],
   "source": [
    "\"\"\"Проверяем как прошел merge\"\"\"\n",
    "checks.id.count() - df.query('rev!=0').id.count()"
   ]
  },
  {
   "cell_type": "code",
   "execution_count": 85,
   "metadata": {},
   "outputs": [
    {
     "data": {
      "text/plain": [
       "0"
      ]
     },
     "execution_count": 85,
     "metadata": {},
     "output_type": "execute_result"
    }
   ],
   "source": [
    "active_st.id.count() - df.query('active == \"active\"').id.count()"
   ]
  },
  {
   "cell_type": "code",
   "execution_count": 11,
   "metadata": {},
   "outputs": [
    {
     "name": "stdout",
     "output_type": "stream",
     "text": [
      "<class 'pandas.core.frame.DataFrame'>\n",
      "Int64Index: 74576 entries, 0 to 74575\n",
      "Data columns (total 4 columns):\n",
      " #   Column  Non-Null Count  Dtype  \n",
      "---  ------  --------------  -----  \n",
      " 0   id      74576 non-null  int64  \n",
      " 1   grp     74576 non-null  object \n",
      " 2   active  74576 non-null  object \n",
      " 3   rev     74576 non-null  float64\n",
      "dtypes: float64(1), int64(1), object(2)\n",
      "memory usage: 2.8+ MB\n"
     ]
    }
   ],
   "source": [
    "\"\"\"Проверяем тип данных\"\"\"\n",
    "df.info()"
   ]
  },
  {
   "cell_type": "code",
   "execution_count": 12,
   "metadata": {},
   "outputs": [
    {
     "data": {
      "text/plain": [
       "0"
      ]
     },
     "execution_count": 12,
     "metadata": {},
     "output_type": "execute_result"
    }
   ],
   "source": [
    "\"\"\"Проверяем кол-во повторных покупок\"\"\"\n",
    "len(df['id'].unique()) - len(df['id'])"
   ]
  },
  {
   "cell_type": "code",
   "execution_count": 13,
   "metadata": {},
   "outputs": [
    {
     "data": {
      "text/html": [
       "<div>\n",
       "<style scoped>\n",
       "    .dataframe tbody tr th:only-of-type {\n",
       "        vertical-align: middle;\n",
       "    }\n",
       "\n",
       "    .dataframe tbody tr th {\n",
       "        vertical-align: top;\n",
       "    }\n",
       "\n",
       "    .dataframe thead th {\n",
       "        text-align: right;\n",
       "    }\n",
       "</style>\n",
       "<table border=\"1\" class=\"dataframe\">\n",
       "  <thead>\n",
       "    <tr style=\"text-align: right;\">\n",
       "      <th></th>\n",
       "      <th>id</th>\n",
       "      <th>rev</th>\n",
       "    </tr>\n",
       "  </thead>\n",
       "  <tbody>\n",
       "    <tr>\n",
       "      <th>count</th>\n",
       "      <td>5.410000e+02</td>\n",
       "      <td>541.000000</td>\n",
       "    </tr>\n",
       "    <tr>\n",
       "      <th>mean</th>\n",
       "      <td>2.514772e+06</td>\n",
       "      <td>1059.752317</td>\n",
       "    </tr>\n",
       "    <tr>\n",
       "      <th>std</th>\n",
       "      <td>1.726839e+06</td>\n",
       "      <td>762.712359</td>\n",
       "    </tr>\n",
       "    <tr>\n",
       "      <th>min</th>\n",
       "      <td>1.627000e+03</td>\n",
       "      <td>199.000000</td>\n",
       "    </tr>\n",
       "    <tr>\n",
       "      <th>25%</th>\n",
       "      <td>9.871290e+05</td>\n",
       "      <td>290.000000</td>\n",
       "    </tr>\n",
       "    <tr>\n",
       "      <th>50%</th>\n",
       "      <td>2.526021e+06</td>\n",
       "      <td>840.000000</td>\n",
       "    </tr>\n",
       "    <tr>\n",
       "      <th>75%</th>\n",
       "      <td>3.993249e+06</td>\n",
       "      <td>1900.000000</td>\n",
       "    </tr>\n",
       "    <tr>\n",
       "      <th>max</th>\n",
       "      <td>5.740903e+06</td>\n",
       "      <td>4650.000000</td>\n",
       "    </tr>\n",
       "  </tbody>\n",
       "</table>\n",
       "</div>"
      ],
      "text/plain": [
       "                 id          rev\n",
       "count  5.410000e+02   541.000000\n",
       "mean   2.514772e+06  1059.752317\n",
       "std    1.726839e+06   762.712359\n",
       "min    1.627000e+03   199.000000\n",
       "25%    9.871290e+05   290.000000\n",
       "50%    2.526021e+06   840.000000\n",
       "75%    3.993249e+06  1900.000000\n",
       "max    5.740903e+06  4650.000000"
      ]
     },
     "execution_count": 13,
     "metadata": {},
     "output_type": "execute_result"
    }
   ],
   "source": [
    "\"\"\"Смотрим информацию по активным пользователям\"\"\"\n",
    "df.query('rev != 0').describe()"
   ]
  },
  {
   "cell_type": "markdown",
   "metadata": {},
   "source": [
    "Как видно все покупки совершались пользователями один раз при этом диапазон стоимости подписок достаточно большой"
   ]
  },
  {
   "cell_type": "markdown",
   "metadata": {},
   "source": [
    "Визуализируем наши данные"
   ]
  },
  {
   "cell_type": "code",
   "execution_count": 14,
   "metadata": {},
   "outputs": [],
   "source": [
    "\"\"\"Считаем кол-во людей, оплативших подписку за разную стоимость \"\"\"\n",
    "df_new = df.groupby(['grp', 'rev'], as_index=False).agg({'id': 'count'}).sort_values('rev')\n",
    "\n",
    "\"\"\"Считаем кол-во людей в группах\"\"\"\n",
    "summa = df_new.groupby(['grp'], as_index=False).agg({'id': 'sum'})"
   ]
  },
  {
   "cell_type": "code",
   "execution_count": 15,
   "metadata": {},
   "outputs": [],
   "source": [
    "\"\"\" Для сравнения выборок, рассчитаем конверсию пользователей для каждой стоимости \"\"\"\n",
    "df_new['per'] = np.where(df_new['grp'] == 'A', df_new.id * 100 / summa['id'][0], df_new.id * 100 / summa['id'][1])"
   ]
  },
  {
   "cell_type": "code",
   "execution_count": 16,
   "metadata": {},
   "outputs": [],
   "source": [
    "\"\"\"Разворачиваем таблицу и заменяем все пропущенные значения нулями\"\"\"\n",
    "df2 = df_new.pivot(index='rev', columns='grp', values='per').fillna(0)"
   ]
  },
  {
   "cell_type": "code",
   "execution_count": 17,
   "metadata": {},
   "outputs": [
    {
     "data": {
      "image/png": "[encoded data removed]",
      "text/plain": [
       "<Figure size 432x288 with 1 Axes>"
      ]
     },
     "metadata": {
      "needs_background": "light"
     },
     "output_type": "display_data"
    }
   ],
   "source": [
    "\"\"\"Строим график \n",
    "Отсекаем ноль, так как большая часть значений находится там и это мешает увидеть данные по активным пользователям\"\"\"\n",
    "df2[1:].plot()\n",
    "plt.title('Процент людей, оплативших подписку')\n",
    "plt.xlabel('Стоимость')\n",
    "plt.ylabel('Доля пользователей, %')\n",
    "plt.legend(title='Группа')\n",
    "plt.rcParams['figure.figsize'] = [23, 23]"
   ]
  },
  {
   "cell_type": "markdown",
   "metadata": {},
   "source": [
    "Цель планируемого А/В-теста: \n",
    "Увеличить продажи с помощью новой механики оплаты\n"
   ]
  },
  {
   "cell_type": "markdown",
   "metadata": {},
   "source": [
    "Проверим нормальность распределения\n",
    "\n",
    "H0 = распределения метрик имеют нормальную форму\n",
    "\n",
    "H1 = распределения метрик имеют ненормальную форму\n"
   ]
  },
  {
   "cell_type": "code",
   "execution_count": 18,
   "metadata": {},
   "outputs": [],
   "source": [
    "control = df.query('grp == \"A\"')['rev'].values\n",
    "test = df.query('grp == \"B\"')['rev'].values"
   ]
  },
  {
   "cell_type": "code",
   "execution_count": 19,
   "metadata": {},
   "outputs": [
    {
     "name": "stdout",
     "output_type": "stream",
     "text": [
      "pvalue для группы А 0.0 pvalue для группы B 0.0\n"
     ]
    },
    {
     "name": "stderr",
     "output_type": "stream",
     "text": [
      "/opt/tljh/user/lib/python3.7/site-packages/scipy/stats/morestats.py:1760: UserWarning: p-value may not be accurate for N > 5000.\n",
      "  warnings.warn(\"p-value may not be accurate for N > 5000.\")\n"
     ]
    }
   ],
   "source": [
    "\"\"\"Для чеков\"\"\"\n",
    "c_gr1 = stats.shapiro(df.query('grp == \"A\"')['rev'].values)\n",
    "c_gr2 = stats.shapiro(df.query('grp == \"B\"')['rev'].values)\n",
    "print('pvalue для группы А', round(c_gr1[1], 4), 'pvalue для группы B', round(c_gr2[1], 4))"
   ]
  },
  {
   "cell_type": "code",
   "execution_count": 20,
   "metadata": {},
   "outputs": [
    {
     "name": "stdout",
     "output_type": "stream",
     "text": [
      "pvalue для группы А 0.0 pvalue для группы B 0.0\n"
     ]
    }
   ],
   "source": [
    "\"\"\"Для чеков активных пользователей\"\"\"\n",
    "c_a_gr1 = stats.shapiro(df.query('active == \"active\" & grp == \"A\"')['rev'].values)\n",
    "c_a_gr1 = stats.shapiro(df.query('active == \"active\" & grp == \"B\"')['rev'].values)\n",
    "print('pvalue для группы А', round(c_a_gr1[1], 4), 'pvalue для группы B', round(c_a_gr1[1], 4))"
   ]
  },
  {
   "cell_type": "code",
   "execution_count": 21,
   "metadata": {},
   "outputs": [
    {
     "name": "stdout",
     "output_type": "stream",
     "text": [
      "pvalue для группы А 0.0 pvalue для группы B 0.0\n"
     ]
    }
   ],
   "source": [
    "\"\"\"Для чеков активных пользователей, совершивших покупку\"\"\"\n",
    "c_b_gr1 = stats.shapiro(df.query('active == \"active\" & rev != 0 &grp == \"A\"')['rev'].values)\n",
    "c_b_gr2 = stats.shapiro(df.query('active == \"active\" & rev != 0 &grp == \"B\"')['rev'].values)\n",
    "print('pvalue для группы А', round(c_b_gr1[1], 4), 'pvalue для группы B', round(c_b_gr1[1], 4))"
   ]
  },
  {
   "cell_type": "markdown",
   "metadata": {},
   "source": [
    "Для всех случаев pvalue<0, а значит мы отвергаем нулевую гипотезу."
   ]
  },
  {
   "cell_type": "markdown",
   "metadata": {},
   "source": [
    "Вывод\n",
    "Распределения двух групп для всех метрик имеет ненормальное распределение, так как во всех случаях p-value < 0.05\n",
    "\n",
    "Отклоняем гипотезу H0 "
   ]
  },
  {
   "cell_type": "markdown",
   "metadata": {},
   "source": [
    "<h3>Считаем метрики и формулируем гипотезу<h4>"
   ]
  },
  {
   "cell_type": "markdown",
   "metadata": {},
   "source": [
    "Нулевая гипотеза (H0):\n",
    "Изменение механики не повлияет на количество продаж \n",
    "\n",
    "Альтернативная гипотеза (H1): \n",
    "Измение механики приведет к росту продаж\n",
    "\n",
    "Принимаем стандартные значения 0.05 для p-value и 0.8 для мощности\n",
    "\n"
   ]
  },
  {
   "cell_type": "markdown",
   "metadata": {},
   "source": [
    "C учетом имеющихся данных, исcледуемыми метриками могли бы стать - CR и ARPU, ARPAU"
   ]
  },
  {
   "cell_type": "markdown",
   "metadata": {},
   "source": [
    "<h2>Конверсия"
   ]
  },
  {
   "cell_type": "markdown",
   "metadata": {},
   "source": [
    "Для проверки гипотезы я использую критерий Хи-квадрат, так как переменные категориальные"
   ]
  },
  {
   "cell_type": "code",
   "execution_count": 22,
   "metadata": {},
   "outputs": [],
   "source": [
    "\"\"\"1) Split groups into two separate DataFrames\"\"\"\n",
    "a = df.query('grp == \"A\"')\n",
    "b = df.query('grp == \"B\"')\n",
    "\"\"\" 2) A-click, A-noclick, B-click, B-noclick\"\"\"\n",
    "a_click = a.query('rev!=0').id.count()\n",
    "a_noclick = a.id.size - a.query('rev!=0').id.count()\n",
    "b_click = b.query('rev!=0').id.count()\n",
    "b_noclick = b.id.size - b.query('rev!=0').id.count()\n",
    "\"\"\" 3) Create np array\"\"\"\n",
    "T = np.array([[a_click, a_noclick], [b_click, b_noclick]])"
   ]
  },
  {
   "cell_type": "code",
   "execution_count": 23,
   "metadata": {},
   "outputs": [
    {
     "name": "stdout",
     "output_type": "stream",
     "text": [
      "pvalue = 0.964356694967037\n"
     ]
    }
   ],
   "source": [
    "import scipy\n",
    "from scipy import stats\n",
    "print('pvalue =', scipy.stats.chi2_contingency(T, correction=False)[1])"
   ]
  },
  {
   "cell_type": "markdown",
   "metadata": {},
   "source": [
    "Так как pvalue > 0.05, мы принимаем нулевую гипотезу об отсутсвии взаимосвязи"
   ]
  },
  {
   "cell_type": "code",
   "execution_count": 24,
   "metadata": {},
   "outputs": [],
   "source": [
    "con_test = len(df.query('rev != 0 & grp == \"A\"')) * 100 / len(df.query('grp == \"A\"'))\n",
    "con_control = len(df.query('rev != 0 & grp == \"B\"')) * 100 / len(df.query('grp == \"B\"'))"
   ]
  },
  {
   "cell_type": "code",
   "execution_count": 25,
   "metadata": {},
   "outputs": [
    {
     "data": {
      "text/plain": [
       "' При рассчете конверсий значительной разницы тоже не наблюдается '"
      ]
     },
     "execution_count": 25,
     "metadata": {},
     "output_type": "execute_result"
    }
   ],
   "source": [
    "(con_test / con_control)\n",
    "\"\"\" При рассчете конверсий значительной разницы тоже не наблюдается \"\"\""
   ]
  },
  {
   "cell_type": "markdown",
   "metadata": {},
   "source": [
    "Для оставшихся метрик воспользуемся бустрапом, так как все метрики распределены ненормально \n",
    "t-test можно воспользоваться при ненормальном распределении, если распределения средних стремятся к нормальному, что мы и проверяем с помощью бутстрапа\n",
    "\n",
    "Гипотезы для метрик:\n",
    "\n",
    "H0: в выборке средний чек/ARPU/ARPPU доход (rev) различаются \n",
    "H1: в выборке средний чек/ARPU/ARPPU доход (rev) не различаются \n"
   ]
  },
  {
   "cell_type": "markdown",
   "metadata": {},
   "source": [
    "<h2> Средний чек"
   ]
  },
  {
   "cell_type": "code",
   "execution_count": 26,
   "metadata": {},
   "outputs": [
    {
     "data": {
      "text/plain": [
       "' Объявим функцию, которая позволит проверять гипотезы с помощью бутстрапа '"
      ]
     },
     "execution_count": 26,
     "metadata": {},
     "output_type": "execute_result"
    }
   ],
   "source": [
    "\"\"\" Объявим функцию, которая позволит проверять гипотезы с помощью бутстрапа \"\"\""
   ]
  },
  {
   "cell_type": "code",
   "execution_count": 27,
   "metadata": {},
   "outputs": [],
   "source": [
    "def get_bootstrap(\n",
    "    # числовые значения первой выборки \n",
    "    data_column_1, \n",
    "    # числовые значения второй выборки\n",
    "    data_column_2,\n",
    "    # количество бутстрэп-подвыборок\n",
    "    boot_it=1000, \n",
    "    # интересующая нас статистика\n",
    "    statistic=np.mean, \n",
    "    # уровень значимости\n",
    "    bootstrap_conf_level=0.95 \n",
    "):\n",
    "    boot_data = []\n",
    "    for i in tqdm(range(boot_it)): \n",
    "        # извлекаем подвыборки\n",
    "        samples_1 = data_column_1.sample(\n",
    "            len(data_column_1), \n",
    "            # параметр возвращения\n",
    "            replace=True \n",
    "        ).values\n",
    "        \n",
    "        samples_2 = data_column_2.sample(\n",
    "            len(data_column_1), \n",
    "            replace=True\n",
    "        ).values\n",
    "        \n",
    "        boot_data.append(statistic(samples_1) - statistic(samples_2)) \n",
    "        \n",
    "    pd_boot_data = pd.DataFrame(boot_data)\n",
    "        \n",
    "    left_quant = (1 - bootstrap_conf_level) / 2\n",
    "    right_quant = 1 - (1 - bootstrap_conf_level) / 2\n",
    "    quants = pd_boot_data.quantile([left_quant, right_quant])\n",
    "        \n",
    "    p_1 = norm.cdf(\n",
    "        x=0, \n",
    "        loc=np.mean(boot_data), \n",
    "        scale=np.std(boot_data)\n",
    "    )\n",
    "    p_2 = norm.cdf(\n",
    "        x=0, \n",
    "        loc=-np.mean(boot_data), \n",
    "        scale=np.std(boot_data)\n",
    "    )\n",
    "    p_value = min(p_1, p_2) * 2\n",
    "        \n",
    "    # Визуализация\n",
    "    _, _, bars = plt.hist(pd_boot_data[0], bins=50)\n",
    "    for bar in bars:\n",
    "        if bar.get_x() <= quants.iloc[0][0] or bar.get_x() >= quants.iloc[1][0]:\n",
    "            bar.set_facecolor('red')\n",
    "        else: \n",
    "            bar.set_facecolor('grey')\n",
    "            bar.set_edgecolor('black') \n",
    "    plt.style.use('ggplot')\n",
    "    plt.vlines(quants, ymin=0, ymax=50, linestyle='--')\n",
    "    plt.xlabel('boot_data')\n",
    "    plt.ylabel('frequency')\n",
    "    plt.title(\"Histogram of boot_data\")\n",
    "    plt.show()\n",
    "    return {\"boot_data\": boot_data, \n",
    "            \"quants\": quants, \n",
    "            \"p_value\": p_value}"
   ]
  },
  {
   "cell_type": "code",
   "execution_count": 28,
   "metadata": {},
   "outputs": [
    {
     "data": {
      "application/vnd.jupyter.widget-view+json": {
       "model_id": "f78ad3660af54eff951c862eb7580f7f",
       "version_major": 2,
       "version_minor": 0
      },
      "text/plain": [
       "HBox(children=(FloatProgress(value=0.0, max=10000.0), HTML(value='')))"
      ]
     },
     "metadata": {},
     "output_type": "display_data"
    },
    {
     "name": "stdout",
     "output_type": "stream",
     "text": [
      "\n"
     ]
    },
    {
     "data": {
      "image/png": "[encoded data removed]",
      "text/plain": [
       "<Figure size 288x288 with 1 Axes>"
      ]
     },
     "metadata": {
      "needs_background": "light"
     },
     "output_type": "display_data"
    }
   ],
   "source": [
    "plt.figure(figsize=(4, 4))\n",
    "bootstrap_check = get_bootstrap(df.query('grp == \"A\" & rev > 0').rev, \\\n",
    "                                df.query('grp == \"B\" & rev > 0 ').rev, boot_it=10000)"
   ]
  },
  {
   "cell_type": "code",
   "execution_count": 29,
   "metadata": {},
   "outputs": [
    {
     "data": {
      "text/html": [
       "<div>\n",
       "<style scoped>\n",
       "    .dataframe tbody tr th:only-of-type {\n",
       "        vertical-align: middle;\n",
       "    }\n",
       "\n",
       "    .dataframe tbody tr th {\n",
       "        vertical-align: top;\n",
       "    }\n",
       "\n",
       "    .dataframe thead th {\n",
       "        text-align: right;\n",
       "    }\n",
       "</style>\n",
       "<table border=\"1\" class=\"dataframe\">\n",
       "  <thead>\n",
       "    <tr style=\"text-align: right;\">\n",
       "      <th></th>\n",
       "      <th>id</th>\n",
       "      <th>grp</th>\n",
       "      <th>active</th>\n",
       "      <th>rev</th>\n",
       "    </tr>\n",
       "  </thead>\n",
       "  <tbody>\n",
       "    <tr>\n",
       "      <th>0</th>\n",
       "      <td>1489</td>\n",
       "      <td>B</td>\n",
       "      <td>0</td>\n",
       "      <td>0.0</td>\n",
       "    </tr>\n",
       "    <tr>\n",
       "      <th>1</th>\n",
       "      <td>1627</td>\n",
       "      <td>A</td>\n",
       "      <td>active</td>\n",
       "      <td>990.0</td>\n",
       "    </tr>\n",
       "    <tr>\n",
       "      <th>2</th>\n",
       "      <td>1768</td>\n",
       "      <td>B</td>\n",
       "      <td>0</td>\n",
       "      <td>0.0</td>\n",
       "    </tr>\n",
       "    <tr>\n",
       "      <th>3</th>\n",
       "      <td>1783</td>\n",
       "      <td>B</td>\n",
       "      <td>0</td>\n",
       "      <td>0.0</td>\n",
       "    </tr>\n",
       "    <tr>\n",
       "      <th>4</th>\n",
       "      <td>1794</td>\n",
       "      <td>A</td>\n",
       "      <td>0</td>\n",
       "      <td>0.0</td>\n",
       "    </tr>\n",
       "    <tr>\n",
       "      <th>...</th>\n",
       "      <td>...</td>\n",
       "      <td>...</td>\n",
       "      <td>...</td>\n",
       "      <td>...</td>\n",
       "    </tr>\n",
       "    <tr>\n",
       "      <th>74571</th>\n",
       "      <td>200247820</td>\n",
       "      <td>B</td>\n",
       "      <td>0</td>\n",
       "      <td>0.0</td>\n",
       "    </tr>\n",
       "    <tr>\n",
       "      <th>74572</th>\n",
       "      <td>201032527</td>\n",
       "      <td>B</td>\n",
       "      <td>0</td>\n",
       "      <td>0.0</td>\n",
       "    </tr>\n",
       "    <tr>\n",
       "      <th>74573</th>\n",
       "      <td>201067612</td>\n",
       "      <td>B</td>\n",
       "      <td>0</td>\n",
       "      <td>0.0</td>\n",
       "    </tr>\n",
       "    <tr>\n",
       "      <th>74574</th>\n",
       "      <td>201067653</td>\n",
       "      <td>B</td>\n",
       "      <td>0</td>\n",
       "      <td>0.0</td>\n",
       "    </tr>\n",
       "    <tr>\n",
       "      <th>74575</th>\n",
       "      <td>201067659</td>\n",
       "      <td>B</td>\n",
       "      <td>0</td>\n",
       "      <td>0.0</td>\n",
       "    </tr>\n",
       "  </tbody>\n",
       "</table>\n",
       "<p>74576 rows × 4 columns</p>\n",
       "</div>"
      ],
      "text/plain": [
       "              id grp  active    rev\n",
       "0           1489   B       0    0.0\n",
       "1           1627   A  active  990.0\n",
       "2           1768   B       0    0.0\n",
       "3           1783   B       0    0.0\n",
       "4           1794   A       0    0.0\n",
       "...          ...  ..     ...    ...\n",
       "74571  200247820   B       0    0.0\n",
       "74572  201032527   B       0    0.0\n",
       "74573  201067612   B       0    0.0\n",
       "74574  201067653   B       0    0.0\n",
       "74575  201067659   B       0    0.0\n",
       "\n",
       "[74576 rows x 4 columns]"
      ]
     },
     "execution_count": 29,
     "metadata": {},
     "output_type": "execute_result"
    }
   ],
   "source": [
    "df"
   ]
  },
  {
   "cell_type": "code",
   "execution_count": 30,
   "metadata": {},
   "outputs": [
    {
     "name": "stdout",
     "output_type": "stream",
     "text": [
      "Разница между группами отсуствует\n",
      "Ноль входит в доверительный интервал\n"
     ]
    }
   ],
   "source": [
    "if bootstrap_check[\"p_value\"] < 0.05:\n",
    "    print('Разница между группами отсуствует')\n",
    "else:\n",
    "    print('Разница между группами присутствует')\n",
    "print('Ноль входит в доверительный интервал')"
   ]
  },
  {
   "cell_type": "markdown",
   "metadata": {},
   "source": [
    "Далее мы можем использовать ttest, так как разница средних стремится к нормальному распределению"
   ]
  },
  {
   "cell_type": "code",
   "execution_count": 31,
   "metadata": {},
   "outputs": [
    {
     "data": {
      "text/plain": [
       "'pvalue<0.05, a значит дисперсии не равны'"
      ]
     },
     "execution_count": 31,
     "metadata": {},
     "output_type": "execute_result"
    }
   ],
   "source": [
    "\"\"\"Проверяем равенство дисперсий\"\"\"\n",
    "stats.levene(df.query('grp == \"A\" & rev != 0').rev, df.query('grp == \"B\" & rev != 0 ').rev)\n",
    "\"\"\"pvalue<0.05, a значит дисперсии не равны\"\"\""
   ]
  },
  {
   "cell_type": "code",
   "execution_count": 32,
   "metadata": {},
   "outputs": [
    {
     "data": {
      "text/plain": [
       "Ttest_indResult(statistic=-2.8670185482728643, pvalue=0.004731862454849822)"
      ]
     },
     "execution_count": 32,
     "metadata": {},
     "output_type": "execute_result"
    }
   ],
   "source": [
    "\"\"\"Проводим ttest\"\"\"\n",
    "stats.ttest_ind(df.query('grp == \"A\" & rev > 0').rev, df.query('grp == \"B\" & rev > 0 ').rev, equal_var=False)"
   ]
  },
  {
   "cell_type": "markdown",
   "metadata": {},
   "source": [
    "В обоих случаях pvalue < 0.05, что позволяет нам принять альтернативную гипотезу. Cредние чеки в двух группах различаются"
   ]
  },
  {
   "cell_type": "markdown",
   "metadata": {},
   "source": [
    "В качестве способа интерпретировать размер эффекта широко используетсярасчет значения d – Коэна,  формула его достаточно проста и значение d может быть легко рассчитано без применения сложных компьютерных статистических программ при известных значениях средних и стандартных отклонений. "
   ]
  },
  {
   "cell_type": "code",
   "execution_count": 33,
   "metadata": {},
   "outputs": [
    {
     "name": "stdout",
     "output_type": "stream",
     "text": [
      "Эффект Коэна равен 2.53\n",
      "Cредний чек группы А 860.71 Cредний чек группы B 1108.82\n"
     ]
    }
   ],
   "source": [
    "c0 = df.query('grp == \"A\" & rev > 0').rev.values\n",
    "c1 = df.query('grp == \"B\" & rev > 0').rev.values\n",
    "cohen = (mean(c0) + mean(c1)) / (sqrt((stdev(c0) ** 2 + stdev(c1) ** 2) / 2))\n",
    "print('Эффект Коэна равен', round(cohen, 2))\n",
    "print('Cредний чек группы А', round(mean(c0), 2), 'Cредний чек группы B', round(mean(c1), 2))"
   ]
  },
  {
   "cell_type": "markdown",
   "metadata": {},
   "source": [
    "До настоящего времени не существует определенных стандартов, как оценивать величину размера эффекта. Однако, если следовать методическим рекомендациям наш эффект можно интерпритировать как большой"
   ]
  },
  {
   "cell_type": "markdown",
   "metadata": {},
   "source": [
    "<h2> ARPU"
   ]
  },
  {
   "cell_type": "code",
   "execution_count": 34,
   "metadata": {},
   "outputs": [],
   "source": [
    "# доход/число пользователей"
   ]
  },
  {
   "cell_type": "code",
   "execution_count": 35,
   "metadata": {},
   "outputs": [
    {
     "data": {
      "application/vnd.jupyter.widget-view+json": {
       "model_id": "54586e8b951944d5b20e325ff36df091",
       "version_major": 2,
       "version_minor": 0
      },
      "text/plain": [
       "HBox(children=(FloatProgress(value=0.0, max=10000.0), HTML(value='')))"
      ]
     },
     "metadata": {},
     "output_type": "display_data"
    },
    {
     "name": "stdout",
     "output_type": "stream",
     "text": [
      "\n"
     ]
    },
    {
     "data": {
      "image/png": "[encoded data removed]",
      "text/plain": [
       "<Figure size 288x288 with 1 Axes>"
      ]
     },
     "metadata": {},
     "output_type": "display_data"
    }
   ],
   "source": [
    "plt.figure(figsize=(4, 4))\n",
    "bootstrap_arpu = get_bootstrap(\n",
    "            df.query('active == \"active\"  & grp == \"A\"').rev,\n",
    "            df.query('active == \"active\"  & grp == \"B\"').rev,\n",
    "            boot_it=10000)"
   ]
  },
  {
   "cell_type": "code",
   "execution_count": 36,
   "metadata": {},
   "outputs": [
    {
     "name": "stdout",
     "output_type": "stream",
     "text": [
      "Разница между группами присутствует\n",
      "Ноль не входит в доверительный интервал\n"
     ]
    }
   ],
   "source": [
    "if bootstrap_arpu[\"p_value\"] < 0.05:\n",
    "    print('Разница между группами отсуствует')\n",
    "else:\n",
    "    print('Разница между группами присутствует')\n",
    "print('Ноль не входит в доверительный интервал')"
   ]
  },
  {
   "cell_type": "code",
   "execution_count": 37,
   "metadata": {},
   "outputs": [
    {
     "data": {
      "text/plain": [
       "'pvalue > 0.05, a значит принимаем нулевую гипотезу => дисперсии равны'"
      ]
     },
     "execution_count": 37,
     "metadata": {},
     "output_type": "execute_result"
    }
   ],
   "source": [
    "stats.levene(df.query('active == \"active\" & grp == \"A\"').rev, \\\n",
    "             df.query('active == \"active\" & grp == \"B\"').rev)\n",
    "\"\"\"pvalue > 0.05, a значит принимаем нулевую гипотезу => дисперсии равны\"\"\""
   ]
  },
  {
   "cell_type": "code",
   "execution_count": 38,
   "metadata": {},
   "outputs": [
    {
     "data": {
      "text/plain": [
       "Ttest_indResult(statistic=-1.2253411073793445, pvalue=0.22048133326988378)"
      ]
     },
     "execution_count": 38,
     "metadata": {},
     "output_type": "execute_result"
    }
   ],
   "source": [
    "stats.ttest_ind(df.query('active == \"active\" & grp == \"A\"').rev, df.query('active == \"active\" & grp == \"B\"').rev)"
   ]
  },
  {
   "cell_type": "code",
   "execution_count": 39,
   "metadata": {},
   "outputs": [
    {
     "name": "stdout",
     "output_type": "stream",
     "text": [
      "Эффект Коэна равен 0.35\n",
      "ARPU группы А 47.35 ARPU группы B 58.06\n"
     ]
    }
   ],
   "source": [
    "e0 = df.query('active == \"active\" & grp == \"A\"').rev.values\n",
    "e1 = df.query('active == \"active\" & grp == \"B\"').rev.values\n",
    "cohen_arpu = (mean(e0) + mean(e1)) / (sqrt((stdev(e0) ** 2 + stdev(e1) ** 2) / 2))\n",
    "print('Эффект Коэна равен', round(cohen_arpu, 2))\n",
    "print('ARPU группы А', round(mean(e0), 2), 'ARPU группы B', round(mean(e1), 2))"
   ]
  },
  {
   "cell_type": "markdown",
   "metadata": {},
   "source": [
    "p-value > 0.05\n",
    "\n",
    "Принимаем H0\n",
    "\n",
    "Средние по дохходам в выборках ARPU в двух группах не различаются"
   ]
  },
  {
   "cell_type": "markdown",
   "metadata": {},
   "source": [
    "<h2>ARPPU"
   ]
  },
  {
   "cell_type": "code",
   "execution_count": 40,
   "metadata": {},
   "outputs": [],
   "source": [
    "# доход/число пользователей"
   ]
  },
  {
   "cell_type": "code",
   "execution_count": 41,
   "metadata": {},
   "outputs": [
    {
     "data": {
      "application/vnd.jupyter.widget-view+json": {
       "model_id": "cb56d8638b144b6999675b0144a16f1d",
       "version_major": 2,
       "version_minor": 0
      },
      "text/plain": [
       "HBox(children=(FloatProgress(value=0.0, max=10000.0), HTML(value='')))"
      ]
     },
     "metadata": {},
     "output_type": "display_data"
    },
    {
     "name": "stdout",
     "output_type": "stream",
     "text": [
      "\n"
     ]
    },
    {
     "data": {
      "image/png": "[encoded data removed]",
      "text/plain": [
       "<Figure size 288x288 with 1 Axes>"
      ]
     },
     "metadata": {},
     "output_type": "display_data"
    }
   ],
   "source": [
    "plt.figure(figsize=(4, 4))\n",
    "bootstrap_arppu = get_bootstrap(\n",
    "            df.query('active == \"active\" & grp == \"B\" & rev > 0').rev,\n",
    "            df.query('active == \"active\" & grp == \"B\" & rev > 0').rev,\n",
    "            boot_it=10000)"
   ]
  },
  {
   "cell_type": "code",
   "execution_count": 42,
   "metadata": {},
   "outputs": [
    {
     "name": "stdout",
     "output_type": "stream",
     "text": [
      "Разница между группами присутствует\n",
      "Ноль входит в доверительный интервал\n"
     ]
    }
   ],
   "source": [
    "if bootstrap_arppu[\"p_value\"] < 0.05:\n",
    "    print('Разница между группами отсуствует')\n",
    "else:\n",
    "    print('Разница между группами присутствует')\n",
    "print('Ноль входит в доверительный интервал')"
   ]
  },
  {
   "cell_type": "code",
   "execution_count": 43,
   "metadata": {},
   "outputs": [
    {
     "data": {
      "text/plain": [
       "'pvalue>0.05, a значит дисперсии равны'"
      ]
     },
     "execution_count": 43,
     "metadata": {},
     "output_type": "execute_result"
    }
   ],
   "source": [
    "stats.levene(df.query('active == \"active\" & grp == \"A\" & rev > 0').rev,\n",
    "             df.query('active == \"active\" & grp == \"B\" & rev > 0').rev)\n",
    "\n",
    "\"\"\"pvalue>0.05, a значит дисперсии равны\"\"\""
   ]
  },
  {
   "cell_type": "code",
   "execution_count": 45,
   "metadata": {},
   "outputs": [
    {
     "data": {
      "text/plain": [
       "Ttest_indResult(statistic=-3.1337795050930985, pvalue=0.0018562025265765867)"
      ]
     },
     "execution_count": 45,
     "metadata": {},
     "output_type": "execute_result"
    }
   ],
   "source": [
    "stats.ttest_ind(df.query('active == \"active\" & grp == \"A\" & rev > 0').rev,\n",
    "                df.query('active == \"active\" & grp == \"B\" & rev > 0').rev)"
   ]
  },
  {
   "cell_type": "markdown",
   "metadata": {},
   "source": [
    "p-value < 0.05\n",
    "Принимаем H1\n",
    "Средние по дохходам в выборках ARPU в двух группах различаются"
   ]
  },
  {
   "cell_type": "code",
   "execution_count": 46,
   "metadata": {},
   "outputs": [
    {
     "name": "stdout",
     "output_type": "stream",
     "text": [
      "Эффект Коэна равен 2.55\n",
      "ARPPU группы А 933.59 ARPPU группы B 1257.88\n"
     ]
    }
   ],
   "source": [
    "a0 = df.query('active == \"active\" & grp == \"A\" & rev > 0').rev.values\n",
    "a1 = df.query('active == \"active\" & grp == \"B\" & rev > 0').rev.values\n",
    "cohen_arpau = (mean(a0) + mean(a1)) / (sqrt((stdev(a0) ** 2 + stdev(a1) ** 2) / 2))\n",
    "print('Эффект Коэна равен', round(cohen_arpau, 2))\n",
    "print('ARPPU группы А', round(mean(a0), 2), 'ARPPU группы B', round(mean(a1), 2))"
   ]
  },
  {
   "cell_type": "markdown",
   "metadata": {},
   "source": [
    "<h3>Вывод по заданию <h3>"
   ]
  },
  {
   "cell_type": "markdown",
   "metadata": {},
   "source": [
    "    Изменение механики статистически значимо не повлияло на конверсию покупателей и средний доход от посетителя, однако, мы можем отметить разницу для среднего чека и средний платеж на всех активных пользователей (который считается более точной метрикой нежели ARPU).\n",
    "    Возможно, cледует сегментировать клиентов и снова проводить АB тестирование. Ну, и, конечно, определиться с эффектом который мы хотим получить, чтобы грамотно определить размеры выборок"
   ]
  },
  {
   "cell_type": "markdown",
   "metadata": {},
   "source": [
    "<h2>Задание 2. SQL"
   ]
  },
  {
   "cell_type": "markdown",
   "metadata": {},
   "source": [
    "<h4>2.1 Очень усердные ученики.<h4>"
   ]
  },
  {
   "cell_type": "markdown",
   "metadata": {},
   "source": [
    "<span style=\"color:darkblue\">2.1.1 Условие\n",
    "\n",
    "<span style=\"color:darkblue\">Образовательные курсы состоят из различных уроков, каждый из которых состоит из нескольких маленьких заданий. Каждое такое маленькое задание называется \"горошиной\".\n",
    "\n",
    "<span style=\"color:darkblue\">Назовём очень усердным учеником того пользователя, который хотя бы раз за текущий месяц правильно решил 20 горошин."
   ]
  },
  {
   "cell_type": "code",
   "execution_count": 47,
   "metadata": {},
   "outputs": [],
   "source": [
    "import pandahouse as ph"
   ]
  },
  {
   "cell_type": "code",
   "execution_count": 58,
   "metadata": {},
   "outputs": [],
   "source": [
    "\"\"\" Объявляем параметры подключения к clickhouse \"\"\"\n",
    "connection = dict(database='default.peas',\n",
    "                  host=' https://clickhouse.lab.karpov.courses',\n",
    "                  user='student',\n",
    "                  password='dpo_python_2020')"
   ]
  },
  {
   "cell_type": "code",
   "execution_count": 49,
   "metadata": {},
   "outputs": [
    {
     "data": {
      "text/html": [
       "<div>\n",
       "<style scoped>\n",
       "    .dataframe tbody tr th:only-of-type {\n",
       "        vertical-align: middle;\n",
       "    }\n",
       "\n",
       "    .dataframe tbody tr th {\n",
       "        vertical-align: top;\n",
       "    }\n",
       "\n",
       "    .dataframe thead th {\n",
       "        text-align: right;\n",
       "    }\n",
       "</style>\n",
       "<table border=\"1\" class=\"dataframe\">\n",
       "  <thead>\n",
       "    <tr style=\"text-align: right;\">\n",
       "      <th></th>\n",
       "      <th>Number_of_diligent_students</th>\n",
       "    </tr>\n",
       "  </thead>\n",
       "  <tbody>\n",
       "    <tr>\n",
       "      <th>0</th>\n",
       "      <td>136</td>\n",
       "    </tr>\n",
       "  </tbody>\n",
       "</table>\n",
       "</div>"
      ],
      "text/plain": [
       "   Number_of_diligent_students\n",
       "0                          136"
      ]
     },
     "execution_count": 49,
     "metadata": {},
     "output_type": "execute_result"
    }
   ],
   "source": [
    "\"\"\" Вкидываем данные (первый столбец - даты (ds), второй - уники (y)) \"\"\"\n",
    "query = \"\"\"\n",
    "SELECT \n",
    "COUNT(st_id) AS Number_of_diligent_students\n",
    "FROM\n",
    "(SELECT \n",
    "st_id\n",
    "FROM \n",
    "default.peas\n",
    "WHERE correct = 1\n",
    "GROUP BY EXTRACT(YEAR FROM timest), EXTRACT(month FROM timest), correct, st_id\n",
    "HAVING SUM(correct) >= 20)\n",
    "\"\"\"\n",
    "\n",
    "df = ph.read_clickhouse(query, connection=connection)\n",
    "df"
   ]
  },
  {
   "cell_type": "markdown",
   "metadata": {},
   "source": [
    "<h4>2.2 Оптимизация воронки<h4>"
   ]
  },
  {
   "cell_type": "markdown",
   "metadata": {},
   "source": [
    "<span style=\"color:darkblue\">2.2.1 Условие\n",
    "\n",
    "<span style=\"color:darkblue\">Образовательная платформа предлагает пройти студентам курсы по модели trial: студент может решить бесплатно лишь 30 горошин в день. Для неограниченного количества заданий в определенной дисциплине студенту необходимо приобрести полный доступ. Команда провела эксперимент, где был протестирован новый экран оплаты."
   ]
  },
  {
   "cell_type": "markdown",
   "metadata": {},
   "source": [
    "<span style=\"color:darkblue\">Необходимо в одном запросе выгрузить следующую информацию о группах пользователей:\n",
    "\n",
    "<span style=\"color:darkblue\">ARPU \n",
    "<span style=\"color:darkblue\">ARPAU \n",
    "<span style=\"color:darkblue\">CR в покупку \n",
    "<span style=\"color:darkblue\">СR активного пользователя в покупку \n",
    "<span style=\"color:darkblue\">CR пользователя из активности по математике (subject = ’math’) в покупку курса по математике\n",
    "<span style=\"color:darkblue\">ARPU считается относительно всех пользователей, попавших в группы.\n",
    "\n",
    "<span style=\"color:darkblue\">Активным считается пользователь, за все время решивший больше 10 задач правильно в любых дисциплинах.\n",
    "\n",
    "<span style=\"color:darkblue\">Активным по математике считается пользователь, за все время решивший 2 или больше задач правильно по математике."
   ]
  },
  {
   "cell_type": "code",
   "execution_count": 50,
   "metadata": {},
   "outputs": [
    {
     "data": {
      "text/html": [
       "<div>\n",
       "<style scoped>\n",
       "    .dataframe tbody tr th:only-of-type {\n",
       "        vertical-align: middle;\n",
       "    }\n",
       "\n",
       "    .dataframe tbody tr th {\n",
       "        vertical-align: top;\n",
       "    }\n",
       "\n",
       "    .dataframe thead th {\n",
       "        text-align: right;\n",
       "    }\n",
       "</style>\n",
       "<table border=\"1\" class=\"dataframe\">\n",
       "  <thead>\n",
       "    <tr style=\"text-align: right;\">\n",
       "      <th></th>\n",
       "      <th>ARPU_pilot</th>\n",
       "      <th>ARPU_control</th>\n",
       "      <th>ARPAU_pilot</th>\n",
       "      <th>ARPAU_control</th>\n",
       "      <th>CR_pilot</th>\n",
       "      <th>CR_control</th>\n",
       "      <th>CR_act_pilot</th>\n",
       "      <th>CR_act_control</th>\n",
       "      <th>CR_math_pilot</th>\n",
       "      <th>CR_math_control</th>\n",
       "    </tr>\n",
       "  </thead>\n",
       "  <tbody>\n",
       "    <tr>\n",
       "      <th>0</th>\n",
       "      <td>1.150847e+06</td>\n",
       "      <td>454098.360656</td>\n",
       "      <td>3.361386e+06</td>\n",
       "      <td>1.049242e+06</td>\n",
       "      <td>11.186441</td>\n",
       "      <td>5.245902</td>\n",
       "      <td>4.166667</td>\n",
       "      <td>2.333333</td>\n",
       "      <td>13.333333</td>\n",
       "      <td>11.320755</td>\n",
       "    </tr>\n",
       "  </tbody>\n",
       "</table>\n",
       "</div>"
      ],
      "text/plain": [
       "     ARPU_pilot   ARPU_control   ARPAU_pilot  ARPAU_control   CR_pilot  \\\n",
       "0  1.150847e+06  454098.360656  3.361386e+06   1.049242e+06  11.186441   \n",
       "\n",
       "   CR_control  CR_act_pilot  CR_act_control  CR_math_pilot  CR_math_control  \n",
       "0    5.245902      4.166667        2.333333      13.333333        11.320755  "
      ]
     },
     "execution_count": 50,
     "metadata": {},
     "output_type": "execute_result"
    }
   ],
   "source": [
    "query = \"\"\"\n",
    "with pilot as \n",
    "(select \n",
    "st_id as pilot_st \n",
    "from \n",
    "default.studs\n",
    "where test_grp = 'pilot'), \n",
    "\n",
    "pilot_pay as \n",
    "(select \n",
    "st_id as pil_pay_st, money\n",
    "from \n",
    "default.final_project_check \n",
    "where st_id in (select * from pilot)), \n",
    "\n",
    "control as \n",
    "(select st_id as control_st \n",
    "from \n",
    "default.studs\n",
    "where test_grp = 'control'),\n",
    "\n",
    "control_pay as \n",
    "(select \n",
    "st_id as con_pay_st, money \n",
    "from \n",
    "default.final_project_check\n",
    "where st_id in (select * from control)),\n",
    "\n",
    "active as \n",
    "(select \n",
    "st_id as active_st \n",
    "from\n",
    "(select distinct st_id\n",
    "from \n",
    "default.peas\n",
    "where correct = 1 \n",
    "group by st_id\n",
    "having sum(correct) >= 10)),\n",
    "\n",
    "active_math as \n",
    "(select \n",
    "count(st_id) as act_math \n",
    "from \n",
    "default.final_project_check\n",
    "where subject = 'Math' \n",
    "group by st_id \n",
    "having count(money) >= 2),\n",
    "\n",
    "math_act as \n",
    "(select\n",
    "st_id as act_math, count(subject) \n",
    "from \n",
    "default.peas\n",
    "where subject = 'Math' \n",
    "group by st_id \n",
    "having count(subject) >= 2), \n",
    "\n",
    "math as (select st_id \n",
    "from default.peas \n",
    "where subject = 'Math')\n",
    "\n",
    "select \n",
    "sum(pilot_pay.money)*100/count(distinct st_id) \n",
    "FILTER (WHERE st_id in (select * from pilot)) as ARPU_pilot, \n",
    "sum(control_pay.money)*100/count(distinct st_id) \n",
    "FILTER (WHERE st_id in (select * from control)) as ARPU_control, \n",
    "sum(pilot_pay.money)*100/count(distinct st_id) FILTER \n",
    "(WHERE st_id in (select pilot_st  from pilot inner join active on pilot.pilot_st = active.active_st)) \n",
    "as ARPAU_pilot,\n",
    "sum(control_pay.money)*100/count(distinct st_id) \n",
    "FILTER (WHERE st_id in (select control_st  from control inner join active on control.control_st = active.active_st)) \n",
    "as ARPAU_control,\n",
    "count(distinct pil_pay_st)*100/count(distinct t.st_id)\n",
    "FILTER (WHERE st_id in (select * from pilot)) as CR_pilot,\n",
    "count(distinct con_pay_st)*100/count(distinct t.st_id) \n",
    "FILTER (WHERE st_id in (select * from control)) as CR_control,\n",
    "100*count(distinct pil_pay_st) FILTER (WHERE pil_pay_st in \n",
    "(select pil_pay_st from pilot_pay inner join active on pilot_pay.pil_pay_st = active.active_st))/count(distinct t.st_id) as CR_act_pilot, \n",
    "100*count(distinct con_pay_st) FILTER (WHERE con_pay_st in \n",
    "(select con_pay_st from control_pay inner join active on control_pay.con_pay_st = active.active_st))/count(distinct t.st_id) \n",
    "as CR_act_control,\n",
    "100 * count(distinct pil_pay_st) FILTER (WHERE pil_pay_st in (select * from math))/count(distinct st_id) \n",
    "FILTER (WHERE st_id in (select * from math) and st_id in (select * from pilot)) as CR_math_pilot, \n",
    "100 * count(distinct con_pay_st) FILTER (WHERE con_pay_st in (select * from math))/count(distinct st_id) \n",
    "FILTER (WHERE st_id in (select * from math) and st_id in (select * from control)) as CR_math_control \n",
    "from default.studs t\n",
    "left join pilot_pay on t.st_id = pilot_pay.pil_pay_st \n",
    "left join control_pay on t.st_id = control_pay.con_pay_st\n",
    "\"\"\"\n",
    "\n",
    "df2 = ph.read_clickhouse(query, connection=connection)\n",
    "df2"
   ]
  },
  {
   "cell_type": "markdown",
   "metadata": {},
   "source": [
    "В первую очередь я разделила данные контрольной и пилотной группы, чтобы рассчитывать метрики для каждой из них было удобнее.\n",
    "Так же я создала подзапрос для поиска активных пользователей и активных по математике. При первичной обработке стало понятно, что активные пользователи по математике не оплачивали услуги(что означает 0), за СR пользователя из активности по математике, было принято СR пользователей, которые ее проходили и покупали горошины."
   ]
  },
  {
   "cell_type": "markdown",
   "metadata": {},
   "source": [
    "По полученным данным можно отметить, что результаты в пилотной группе по всем метрикам лучше и сделать предположение, что новый экран оплаты эфективен"
   ]
  },
  {
   "cell_type": "markdown",
   "metadata": {},
   "source": [
    "<h2>Задание 3. Python"
   ]
  },
  {
   "cell_type": "markdown",
   "metadata": {},
   "source": [
    "<span style=\"color:darkblue\">3.1 Задача\n",
    "\n",
    "<span style=\"color:darkblue\">Реализуйте функцию, которая будет автоматически подгружать информацию из дополнительного файла groups_add.csv (заголовки могут отличаться) и на основании дополнительных параметров пересчитывать метрики.\n",
    "<span style=\"color:darkblue\">Реализуйте функцию, которая будет строить графики по получаемым метрикам."
   ]
  },
  {
   "cell_type": "code",
   "execution_count": 72,
   "metadata": {},
   "outputs": [],
   "source": [
    "def authomatical_function(path: str, id_col: str, group_col: str):   \n",
    "# Загужаем талицы\n",
    "    groups = pd.read_csv('Проект_2_groups.csv', sep=';')\n",
    "    groups_add = pd.read_csv('Проект_2_group_add.csv')\n",
    "    active_st = pd.read_csv('Проект_2_active_studs.csv')\n",
    "    checks = pd.read_csv('Проект_2_checks.csv', sep=';')   \n",
    "# Унифицируем названия колонок (если прислали отличные от исходных)\n",
    "    groups_add.rename(columns={id_col: 'id', group_col: 'grp'}, inplace=True)\n",
    "    checks = checks.rename(columns={'student_id':  'id'})\n",
    "    active_st = active_st.rename(columns={'student_id': 'id'})   \n",
    "# Объединяем дата-сеты\n",
    "    groups_2 = pd.concat([groups, groups_add], ignore_index=True)\n",
    "# Добавляем информацию об активности\n",
    "    active_st['active'] = 'active'\n",
    "# Объединение дата-фреймов\n",
    "    df = pd.merge(groups_2, active_st, how='left', on='id')\n",
    "    df = pd.merge(df, checks, how='left', on='id')\n",
    "# Заменяем пропуски на нули\n",
    "    df = df.fillna(0)\n",
    "# Рассчет метрик\n",
    "    # Конверсия, средний чек, ARPU, ARPPU\n",
    "    cr = df.query('rev != 0').groupby('grp', as_index=False).agg({'id': 'count'}).rename(columns={'id': 'buyer'})\n",
    "    cr['all'] = df.groupby('grp', as_index=False).agg({'id': 'count'}).id.to_list()\n",
    "    cr['cr'] = round((cr['buyer'] * 100 / cr['all']), 2)   \n",
    "    check = df.query('rev != 0').groupby('grp', as_index=False).agg({'rev': 'mean'}).round(2).rename(columns={'rev':'avg'})\n",
    "    check['median'] = df.query('rev != 0').groupby('grp', as_index=False).agg({'rev': 'median'}).round(2).rev.to_list()\n",
    "    arpu = df.query('active == \"active\"').groupby('grp', as_index=False).agg({'id': 'count', 'rev': 'sum'}) \n",
    "    arpu['arpu'] = round(arpu['rev'] / arpu['id'], 2)      \n",
    "    arppu = df.query('active == \"active\" & rev > 0').groupby('grp', as_index=False).agg({'id': 'count', 'rev': 'sum'}).rename(columns={'id': 'active_buyer'})\n",
    "    arppu['arppu'] = round(arpu['rev'] / arpu['id'], 2)\n",
    "    s = cr.merge(check, on='grp')\n",
    "    s = s.merge(arpu, on='grp')\n",
    "    s = s.merge(arppu, on=['grp', 'rev'])\n",
    "    # ГРАФИКИ\n",
    "    # Создаем рамки для графиков\n",
    "    fig, axes = plt.subplots(3, 2, figsize=(15, 17))\n",
    "    # Общее название\n",
    "    fig.suptitle('Графики по получаемым метрикам', fontsize= 15 , fontname=\"Arial\")\n",
    "    # Названия для отдельных графиков\n",
    "    axes[0, 0].set_title('CR по группам', fontsize= 15 , loc='left', fontname=\"Arial\")\n",
    "    axes[0, 1].set_title('Процент людей, оплативших подписку', fontsize= 15 , loc='left', fontname=\"Arial\")\n",
    "    axes[1, 0].set_title('ARPU по группам', fontsize= 15 , loc='left', fontname=\"Arial\")\n",
    "    axes[1, 1].set_title('Кол-во пользователей и доход', fontsize= 15 , loc='left', fontname=\"Arial\")\n",
    "    axes[2, 0].set_title('Cредний чек', fontsize= 15 , loc='left', fontname=\"Arial\")\n",
    "    axes[2, 1].set_title('Медианный чек', fontsize= 15 , loc='left', fontname=\"Arial\")\n",
    "    # Рисуем график №1\n",
    "    sns.barplot(x=\"grp\", y=\"cr\", data=cr, ax=axes[0, 0])\n",
    "    # Рисуем график №2  \n",
    "    # Производим вычисления \n",
    "    arpu_data = pd.melt(arpu, id_vars='grp', value_vars=['id', 'rev'])\n",
    "    sns.barplot(x=\"variable\", y=\"value\", hue=\"grp\", data=arpu_data, ax=axes[1, 1])\n",
    "    # Рисуем график №3\n",
    "    sns.barplot(x=\"grp\", y=\"arpu\", data=arpu, ax=axes[0, 1])\n",
    "    # Рисуем график №4\n",
    "    sns.barplot(x=\"grp\", y=\"arppu\", data=arppu, ax=axes[1, 0])\n",
    "    # Рисуем график №5\n",
    "    sns.barplot(x=\"grp\", y=\"avg\", data=check, ax=axes[2, 0])\n",
    "    # Рисуем график №6\n",
    "    sns.barplot(x=\"grp\", y=\"median\", data=check, ax=axes[2, 1])   \n",
    "    # Вывод данных\n",
    "    return s"
   ]
  },
  {
   "cell_type": "code",
   "execution_count": 73,
   "metadata": {},
   "outputs": [
    {
     "data": {
      "text/html": [
       "<div>\n",
       "<style scoped>\n",
       "    .dataframe tbody tr th:only-of-type {\n",
       "        vertical-align: middle;\n",
       "    }\n",
       "\n",
       "    .dataframe tbody tr th {\n",
       "        vertical-align: top;\n",
       "    }\n",
       "\n",
       "    .dataframe thead th {\n",
       "        text-align: right;\n",
       "    }\n",
       "</style>\n",
       "<table border=\"1\" class=\"dataframe\">\n",
       "  <thead>\n",
       "    <tr style=\"text-align: right;\">\n",
       "      <th></th>\n",
       "      <th>grp</th>\n",
       "      <th>buyer</th>\n",
       "      <th>all</th>\n",
       "      <th>cr</th>\n",
       "      <th>avg</th>\n",
       "      <th>median</th>\n",
       "      <th>id</th>\n",
       "      <th>rev</th>\n",
       "      <th>arpu</th>\n",
       "      <th>active_buyer</th>\n",
       "      <th>arppu</th>\n",
       "    </tr>\n",
       "  </thead>\n",
       "  <tbody>\n",
       "    <tr>\n",
       "      <th>0</th>\n",
       "      <td>A</td>\n",
       "      <td>107</td>\n",
       "      <td>14693</td>\n",
       "      <td>0.73</td>\n",
       "      <td>860.71</td>\n",
       "      <td>690.0</td>\n",
       "      <td>1538</td>\n",
       "      <td>72820.0000</td>\n",
       "      <td>47.35</td>\n",
       "      <td>78</td>\n",
       "      <td>47.35</td>\n",
       "    </tr>\n",
       "    <tr>\n",
       "      <th>1</th>\n",
       "      <td>B</td>\n",
       "      <td>434</td>\n",
       "      <td>59883</td>\n",
       "      <td>0.72</td>\n",
       "      <td>1108.82</td>\n",
       "      <td>935.0</td>\n",
       "      <td>6803</td>\n",
       "      <td>394974.0035</td>\n",
       "      <td>58.06</td>\n",
       "      <td>314</td>\n",
       "      <td>58.06</td>\n",
       "    </tr>\n",
       "  </tbody>\n",
       "</table>\n",
       "</div>"
      ],
      "text/plain": [
       "  grp  buyer    all    cr      avg  median    id          rev   arpu  \\\n",
       "0   A    107  14693  0.73   860.71   690.0  1538   72820.0000  47.35   \n",
       "1   B    434  59883  0.72  1108.82   935.0  6803  394974.0035  58.06   \n",
       "\n",
       "   active_buyer  arppu  \n",
       "0            78  47.35  \n",
       "1           314  58.06  "
      ]
     },
     "execution_count": 73,
     "metadata": {},
     "output_type": "execute_result"
    },
    {
     "data": {
      "image/png": "[encoded data removed]",
      "text/plain": [
       "<Figure size 1080x1224 with 6 Axes>"
      ]
     },
     "metadata": {},
     "output_type": "display_data"
    }
   ],
   "source": [
    "authomatical_function('groups_add.csv', 'id', 'grp')"
   ]
  }
 ],
 "metadata": {
  "kernelspec": {
   "display_name": "Python 3",
   "language": "python",
   "name": "python3"
  },
  "language_info": {
   "codemirror_mode": {
    "name": "ipython",
    "version": 3
   },
   "file_extension": ".py",
   "mimetype": "text/x-python",
   "name": "python",
   "nbconvert_exporter": "python",
   "pygments_lexer": "ipython3",
   "version": "3.7.3"
  }
 },
 "nbformat": 4,
 "nbformat_minor": 4
}
